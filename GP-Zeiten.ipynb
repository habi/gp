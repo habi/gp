{
 "cells": [
  {
   "cell_type": "code",
   "execution_count": 41,
   "metadata": {
    "collapsed": true,
    "deletable": true,
    "editable": true
   },
   "outputs": [],
   "source": [
    "import numpy\n",
    "import pandas\n",
    "import matplotlib.pylab as plt\n",
    "%matplotlib inline\n",
    "import seaborn\n",
    "import requests\n",
    "import time"
   ]
  },
  {
   "cell_type": "code",
   "execution_count": 42,
   "metadata": {
    "collapsed": true,
    "deletable": true,
    "editable": true
   },
   "outputs": [],
   "source": [
    "plt.rcParams['figure.figsize'] = 16, 9"
   ]
  },
  {
   "cell_type": "code",
   "execution_count": 43,
   "metadata": {
    "collapsed": false,
    "deletable": true,
    "editable": true
   },
   "outputs": [],
   "source": [
    "df = pandas.read_csv('gp.csv', header=0)"
   ]
  },
  {
   "cell_type": "code",
   "execution_count": 44,
   "metadata": {
    "collapsed": false,
    "deletable": true,
    "editable": true
   },
   "outputs": [],
   "source": [
    "df['h']  = pandas.to_timedelta(df['Zeit']) / numpy.timedelta64(1, 'h')"
   ]
  },
  {
   "cell_type": "code",
   "execution_count": 45,
   "metadata": {
    "collapsed": false
   },
   "outputs": [],
   "source": [
    "df['Jahr'] = [int(date.split('-')[0]) for date in df['Datum']]"
   ]
  },
  {
   "cell_type": "code",
   "execution_count": 46,
   "metadata": {
    "collapsed": false
   },
   "outputs": [],
   "source": [
    "# Read the API key from disk\n",
    "# Get your own at https://darksky.net/dev/, the first 1000 forecasts per day are free.\n",
    "api_key=numpy.loadtxt('api.key', dtype='str')"
   ]
  },
  {
   "cell_type": "code",
   "execution_count": 47,
   "metadata": {
    "collapsed": true
   },
   "outputs": [],
   "source": [
    "# Where is Bern\n",
    "lat_bern = \"46.96334\"\n",
    "lon_bern = \"7.43911\""
   ]
  },
  {
   "cell_type": "code",
   "execution_count": 52,
   "metadata": {
    "collapsed": true
   },
   "outputs": [],
   "source": [
    "temp_dict_min = dict()\n",
    "temp_dict_max = dict()\n",
    "temp_dict_all = dict()"
   ]
  },
  {
   "cell_type": "code",
   "execution_count": 55,
   "metadata": {
    "collapsed": false
   },
   "outputs": [
    {
     "name": "stdout",
     "output_type": "stream",
     "text": [
      "{2000: 8.2400000000000002}\n",
      "{2001: 8.2400000000000002}\n",
      "{2002: 8.2400000000000002}\n",
      "{2003: 8.2400000000000002}\n",
      "{2004: 8.2400000000000002}\n",
      "{2005: 8.2400000000000002}\n",
      "{2006: 8.2400000000000002}\n",
      "{2007: 8.2400000000000002}\n",
      "{2008: 8.2400000000000002}\n",
      "{2009: 8.2400000000000002}\n",
      "{2010: 8.2400000000000002}\n",
      "{2011: 8.2400000000000002}\n",
      "{2012: 8.2400000000000002}\n",
      "{2013: 8.2400000000000002}\n",
      "{2014: 8.2400000000000002}\n",
      "{2015: 8.2400000000000002}\n",
      "{2016: 8.2400000000000002}\n"
     ]
    }
   ],
   "source": [
    "# Grab the temperature according to https://github.com/thisss/eisheilige/blob/master/eisheilige.ipynb\n",
    "for jahr in range(2000,2017):\n",
    "    temp_minimum = dict()\n",
    "    temp_maximum = dict()\n",
    "    temp_all = dict()\n",
    "    temp_abfragestring = str(jahr) + '-05-14T16:45:00' + '?lang=de' + '&units=auto'\n",
    "    response = requests.get('https://api.darksky.net/forecast/9ca98118d90446e9dbc49b25b7a66c4a/46.96334,7.43911,2016-05-14T16:45:00?lang=de&units=auto')\n",
    "    #response = requests.get('https://api.darksky.net/forecast/' + api_key + '/' + lat_bern + ',' + lon_bern + ',' +  temp_abfragestring)\n",
    "    data_bern = response.json()\n",
    "    temp_minimum[jahr] = pandas.DataFrame(data_bern['hourly']['data'])['temperature'].min()\n",
    "    temp_maximum[jahr] = pandas.DataFrame(data_bern['hourly']['data'])['temperature'].max()\n",
    "    temp_all[jahr] = pandas.DataFrame(data_bern['hourly']['data'])['temperature']\n",
    "    time.sleep(2)\n",
    "    print(temp_minimum)"
   ]
  },
  {
   "cell_type": "code",
   "execution_count": 28,
   "metadata": {
    "collapsed": false,
    "deletable": true,
    "editable": true
   },
   "outputs": [
    {
     "data": {
      "text/html": [
       "<div>\n",
       "<table border=\"1\" class=\"dataframe\">\n",
       "  <thead>\n",
       "    <tr style=\"text-align: right;\">\n",
       "      <th></th>\n",
       "      <th>Datum</th>\n",
       "      <th>Zeit</th>\n",
       "      <th>Link</th>\n",
       "      <th>h</th>\n",
       "      <th>Jahr</th>\n",
       "    </tr>\n",
       "  </thead>\n",
       "  <tbody>\n",
       "    <tr>\n",
       "      <th>0</th>\n",
       "      <td>2017-05-13</td>\n",
       "      <td>1:14:14</td>\n",
       "      <td>http://bern.mikatiming.de/2017/?content=detail...</td>\n",
       "      <td>1.237222</td>\n",
       "      <td>2017</td>\n",
       "    </tr>\n",
       "    <tr>\n",
       "      <th>1</th>\n",
       "      <td>2016-05-14</td>\n",
       "      <td>1:13:35</td>\n",
       "      <td>http://bern.mikatiming.de/2016/?content=detail...</td>\n",
       "      <td>1.226389</td>\n",
       "      <td>2016</td>\n",
       "    </tr>\n",
       "    <tr>\n",
       "      <th>2</th>\n",
       "      <td>2015-05-09</td>\n",
       "      <td>1:13:57</td>\n",
       "      <td>http://bern.mikatiming.de/2015/?content=detail...</td>\n",
       "      <td>1.232500</td>\n",
       "      <td>2015</td>\n",
       "    </tr>\n",
       "    <tr>\n",
       "      <th>3</th>\n",
       "      <td>2014-05-10</td>\n",
       "      <td>1:14:55</td>\n",
       "      <td>http://bern.mikatiming.de/2014/?content=detail...</td>\n",
       "      <td>1.248611</td>\n",
       "      <td>2014</td>\n",
       "    </tr>\n",
       "    <tr>\n",
       "      <th>4</th>\n",
       "      <td>2013-05-18</td>\n",
       "      <td>1:15:59</td>\n",
       "      <td>http://bern.mikatiming.de/2013/?content=detail...</td>\n",
       "      <td>1.266389</td>\n",
       "      <td>2013</td>\n",
       "    </tr>\n",
       "    <tr>\n",
       "      <th>5</th>\n",
       "      <td>2012-05-12</td>\n",
       "      <td>1:11:42</td>\n",
       "      <td>http://bern.mikatiming.de/2012/?content=detail...</td>\n",
       "      <td>1.195000</td>\n",
       "      <td>2012</td>\n",
       "    </tr>\n",
       "    <tr>\n",
       "      <th>6</th>\n",
       "      <td>2011-05-14</td>\n",
       "      <td>NaN</td>\n",
       "      <td>http://bern.mikatiming.de/2011/?content=detail...</td>\n",
       "      <td>NaN</td>\n",
       "      <td>2011</td>\n",
       "    </tr>\n",
       "    <tr>\n",
       "      <th>7</th>\n",
       "      <td>2010-05-22</td>\n",
       "      <td>NaN</td>\n",
       "      <td>NaN</td>\n",
       "      <td>NaN</td>\n",
       "      <td>2010</td>\n",
       "    </tr>\n",
       "    <tr>\n",
       "      <th>8</th>\n",
       "      <td>2009-04-18</td>\n",
       "      <td>1:12:39</td>\n",
       "      <td>http://bern.mikatiming.de/2009/?content=detail...</td>\n",
       "      <td>1.210833</td>\n",
       "      <td>2009</td>\n",
       "    </tr>\n",
       "    <tr>\n",
       "      <th>9</th>\n",
       "      <td>2008-05-10</td>\n",
       "      <td>NaN</td>\n",
       "      <td>NaN</td>\n",
       "      <td>NaN</td>\n",
       "      <td>2008</td>\n",
       "    </tr>\n",
       "    <tr>\n",
       "      <th>10</th>\n",
       "      <td>2007-05-12</td>\n",
       "      <td>1:12:03</td>\n",
       "      <td>NaN</td>\n",
       "      <td>1.200833</td>\n",
       "      <td>2007</td>\n",
       "    </tr>\n",
       "    <tr>\n",
       "      <th>11</th>\n",
       "      <td>2006-05-13</td>\n",
       "      <td>1:03:55</td>\n",
       "      <td>https://services.datasport.com/2006/lauf/gp/al...</td>\n",
       "      <td>1.065278</td>\n",
       "      <td>2006</td>\n",
       "    </tr>\n",
       "    <tr>\n",
       "      <th>12</th>\n",
       "      <td>2005-05-21</td>\n",
       "      <td>1:11:22</td>\n",
       "      <td>https://services.datasport.com/2005/lauf/gp/al...</td>\n",
       "      <td>1.189444</td>\n",
       "      <td>2005</td>\n",
       "    </tr>\n",
       "    <tr>\n",
       "      <th>13</th>\n",
       "      <td>2004-05-08</td>\n",
       "      <td>1:09:28</td>\n",
       "      <td>https://services.datasport.com/2004/lauf/gp/al...</td>\n",
       "      <td>1.157778</td>\n",
       "      <td>2004</td>\n",
       "    </tr>\n",
       "    <tr>\n",
       "      <th>14</th>\n",
       "      <td>2003-05-10</td>\n",
       "      <td>1:11:23</td>\n",
       "      <td>https://services.datasport.com/2003/lauf/gp/al...</td>\n",
       "      <td>1.189722</td>\n",
       "      <td>2003</td>\n",
       "    </tr>\n",
       "    <tr>\n",
       "      <th>15</th>\n",
       "      <td>2002-05-11</td>\n",
       "      <td>1:12:47</td>\n",
       "      <td>https://services.datasport.com/2002/lauf/gp/al...</td>\n",
       "      <td>1.213056</td>\n",
       "      <td>2002</td>\n",
       "    </tr>\n",
       "    <tr>\n",
       "      <th>16</th>\n",
       "      <td>2001-05-12</td>\n",
       "      <td>1:18:49</td>\n",
       "      <td>https://services.datasport.com/2001/lauf/gp/al...</td>\n",
       "      <td>1.313611</td>\n",
       "      <td>2001</td>\n",
       "    </tr>\n",
       "    <tr>\n",
       "      <th>17</th>\n",
       "      <td>2000-05-13</td>\n",
       "      <td>NaN</td>\n",
       "      <td>NaN</td>\n",
       "      <td>NaN</td>\n",
       "      <td>2000</td>\n",
       "    </tr>\n",
       "    <tr>\n",
       "      <th>18</th>\n",
       "      <td>1999-05-08</td>\n",
       "      <td>1:24:16</td>\n",
       "      <td>https://services.datasport.com/1999/lauf/gp/al...</td>\n",
       "      <td>1.404444</td>\n",
       "      <td>1999</td>\n",
       "    </tr>\n",
       "    <tr>\n",
       "      <th>19</th>\n",
       "      <td>1998-05-09</td>\n",
       "      <td>NaN</td>\n",
       "      <td>NaN</td>\n",
       "      <td>NaN</td>\n",
       "      <td>1998</td>\n",
       "    </tr>\n",
       "    <tr>\n",
       "      <th>20</th>\n",
       "      <td>1997-04-27</td>\n",
       "      <td>1:27:29</td>\n",
       "      <td>NaN</td>\n",
       "      <td>1.458056</td>\n",
       "      <td>1997</td>\n",
       "    </tr>\n",
       "    <tr>\n",
       "      <th>21</th>\n",
       "      <td>1996-05-04</td>\n",
       "      <td>NaN</td>\n",
       "      <td>NaN</td>\n",
       "      <td>NaN</td>\n",
       "      <td>1996</td>\n",
       "    </tr>\n",
       "    <tr>\n",
       "      <th>22</th>\n",
       "      <td>1995-05-06</td>\n",
       "      <td>1:26:50</td>\n",
       "      <td>NaN</td>\n",
       "      <td>1.447222</td>\n",
       "      <td>1995</td>\n",
       "    </tr>\n",
       "    <tr>\n",
       "      <th>23</th>\n",
       "      <td>1994-05-07</td>\n",
       "      <td>1:23:59</td>\n",
       "      <td>NaN</td>\n",
       "      <td>1.399722</td>\n",
       "      <td>1994</td>\n",
       "    </tr>\n",
       "    <tr>\n",
       "      <th>24</th>\n",
       "      <td>1993-05-08</td>\n",
       "      <td>1:23:07</td>\n",
       "      <td>NaN</td>\n",
       "      <td>1.385278</td>\n",
       "      <td>1993</td>\n",
       "    </tr>\n",
       "  </tbody>\n",
       "</table>\n",
       "</div>"
      ],
      "text/plain": [
       "         Datum     Zeit                                               Link  \\\n",
       "0   2017-05-13  1:14:14  http://bern.mikatiming.de/2017/?content=detail...   \n",
       "1   2016-05-14  1:13:35  http://bern.mikatiming.de/2016/?content=detail...   \n",
       "2   2015-05-09  1:13:57  http://bern.mikatiming.de/2015/?content=detail...   \n",
       "3   2014-05-10  1:14:55  http://bern.mikatiming.de/2014/?content=detail...   \n",
       "4   2013-05-18  1:15:59  http://bern.mikatiming.de/2013/?content=detail...   \n",
       "5   2012-05-12  1:11:42  http://bern.mikatiming.de/2012/?content=detail...   \n",
       "6   2011-05-14      NaN  http://bern.mikatiming.de/2011/?content=detail...   \n",
       "7   2010-05-22      NaN                                                NaN   \n",
       "8   2009-04-18  1:12:39  http://bern.mikatiming.de/2009/?content=detail...   \n",
       "9   2008-05-10      NaN                                                NaN   \n",
       "10  2007-05-12  1:12:03                                                NaN   \n",
       "11  2006-05-13  1:03:55  https://services.datasport.com/2006/lauf/gp/al...   \n",
       "12  2005-05-21  1:11:22  https://services.datasport.com/2005/lauf/gp/al...   \n",
       "13  2004-05-08  1:09:28  https://services.datasport.com/2004/lauf/gp/al...   \n",
       "14  2003-05-10  1:11:23  https://services.datasport.com/2003/lauf/gp/al...   \n",
       "15  2002-05-11  1:12:47  https://services.datasport.com/2002/lauf/gp/al...   \n",
       "16  2001-05-12  1:18:49  https://services.datasport.com/2001/lauf/gp/al...   \n",
       "17  2000-05-13      NaN                                                NaN   \n",
       "18  1999-05-08  1:24:16  https://services.datasport.com/1999/lauf/gp/al...   \n",
       "19  1998-05-09      NaN                                                NaN   \n",
       "20  1997-04-27  1:27:29                                                NaN   \n",
       "21  1996-05-04      NaN                                                NaN   \n",
       "22  1995-05-06  1:26:50                                                NaN   \n",
       "23  1994-05-07  1:23:59                                                NaN   \n",
       "24  1993-05-08  1:23:07                                                NaN   \n",
       "\n",
       "           h  Jahr  \n",
       "0   1.237222  2017  \n",
       "1   1.226389  2016  \n",
       "2   1.232500  2015  \n",
       "3   1.248611  2014  \n",
       "4   1.266389  2013  \n",
       "5   1.195000  2012  \n",
       "6        NaN  2011  \n",
       "7        NaN  2010  \n",
       "8   1.210833  2009  \n",
       "9        NaN  2008  \n",
       "10  1.200833  2007  \n",
       "11  1.065278  2006  \n",
       "12  1.189444  2005  \n",
       "13  1.157778  2004  \n",
       "14  1.189722  2003  \n",
       "15  1.213056  2002  \n",
       "16  1.313611  2001  \n",
       "17       NaN  2000  \n",
       "18  1.404444  1999  \n",
       "19       NaN  1998  \n",
       "20  1.458056  1997  \n",
       "21       NaN  1996  \n",
       "22  1.447222  1995  \n",
       "23  1.399722  1994  \n",
       "24  1.385278  1993  "
      ]
     },
     "execution_count": 28,
     "metadata": {},
     "output_type": "execute_result"
    }
   ],
   "source": [
    "df.to_dense()"
   ]
  },
  {
   "cell_type": "code",
   "execution_count": 29,
   "metadata": {
    "collapsed": false,
    "deletable": true,
    "editable": true
   },
   "outputs": [
    {
     "name": "stdout",
     "output_type": "stream",
     "text": [
      "Times vary by 23 minutes and 34 seconds\n"
     ]
    }
   ],
   "source": [
    "difference = numpy.max(df['h']) - numpy.min(df['h'])\n",
    "print('Times vary by %s minutes and %s seconds' % (int(60 * difference),\n",
    "                                                   int(60 * (60 * difference % int(60 * difference)))))"
   ]
  },
  {
   "cell_type": "code",
   "execution_count": 30,
   "metadata": {
    "collapsed": false,
    "deletable": true,
    "editable": true
   },
   "outputs": [
    {
     "data": {
      "image/png": "[encoded data removed]",
      "text/plain": [
       "<matplotlib.figure.Figure at 0x111f3e210>"
      ]
     },
     "metadata": {},
     "output_type": "display_data"
    }
   ],
   "source": [
    "plt.scatter(df['h'], df['Jahr'], cmap='viridis', c=1-df['h'], s=256, label='')\n",
    "plt.axvline(numpy.nanmean(df['h']), label='Durchschnittszeit', color='gray')\n",
    "for i, txt in enumerate(df['Zeit']):\n",
    "    # http://stackoverflow.com/a/37242674/323100\n",
    "    plt.gca().annotate(txt, (df['h'][i]+0.005, df['Jahr'][i]),\n",
    "                       horizontalalignment='left',\n",
    "                       verticalalignment='center')\n",
    "plt.ylabel('Jahr')\n",
    "plt.xlabel('Zeit [h]')\n",
    "plt.legend(loc='best')\n",
    "plt.show()"
   ]
  },
  {
   "cell_type": "code",
   "execution_count": 8,
   "metadata": {
    "collapsed": false,
    "deletable": true,
    "editable": true
   },
   "outputs": [
    {
     "data": {
      "image/png": "[encoded data removed]",
      "text/plain": [
       "<matplotlib.figure.Figure at 0x7fef6fceae80>"
      ]
     },
     "metadata": {},
     "output_type": "display_data"
    }
   ],
   "source": [
    "seaborn.boxplot(df['h'])\n",
    "seaborn.swarmplot(df['h'], size=25, edgecolor='gray', linewidth=1)\n",
    "plt.ylabel('Zeit [h]')\n",
    "plt.show()"
   ]
  },
  {
   "cell_type": "code",
   "execution_count": null,
   "metadata": {
    "collapsed": true,
    "deletable": true,
    "editable": true
   },
   "outputs": [],
   "source": []
  }
 ],
 "metadata": {
  "anaconda-cloud": {},
  "kernelspec": {
   "display_name": "Python 2",
   "language": "python",
   "name": "python2"
  },
  "language_info": {
   "codemirror_mode": {
    "name": "ipython",
    "version": 2
   },
   "file_extension": ".py",
   "mimetype": "text/x-python",
   "name": "python",
   "nbconvert_exporter": "python",
   "pygments_lexer": "ipython2",
   "version": "2.7.11"
  }
 },
 "nbformat": 4,
 "nbformat_minor": 0
}
